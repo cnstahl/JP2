{
 "cells": [
  {
   "cell_type": "code",
   "execution_count": 1,
   "metadata": {
    "collapsed": true
   },
   "outputs": [],
   "source": [
    "#######################################################\n",
    "# Deprecated                                          #\n",
    "# See syk_susy_2.py                                   #\n",
    "#######################################################\n",
    "\n",
    "# import numpy as np"
   ]
  },
  {
   "cell_type": "markdown",
   "metadata": {},
   "source": [
    "# Given $N$ Majorana Fermions\n",
    "\n",
    "$\\left|\\phi\\right\\rangle=\\left|\\alpha_0\\alpha_1\\dots\\alpha_N\\dots\\alpha_{2N}\\right\\rangle,$\n",
    "\n",
    "$|10100\\rangle = \\psi_2^\\dagger\\psi_4^\\dagger|0\\rangle%$\n",
    "\n",
    "$\\psi_0$ lowers the zeroth fermion in this document, little endian. Elsewhere index by 1, big endian."
   ]
  },
  {
   "cell_type": "code",
   "execution_count": 2,
   "metadata": {
    "collapsed": false
   },
   "outputs": [],
   "source": [
    "def anti_com(a,b):\n",
    "    return np.dot(a,b)+np.dot(b,a)\n",
    "\n",
    "def Fermi(n,j):\n",
    "    F = 0\n",
    "    for i in np.arange(0,j):\n",
    "        if (n&2**i) != 0: F += 1\n",
    "    return F\n",
    "\n",
    "def psi(N,j):\n",
    "    assert N%1 == 0, \"N must be an integer\"\n",
    "    assert j%1 == 0, \"j must be an integer\"\n",
    "    assert j<N, \"j must be less than N\"\n",
    "    assert N>=0, \"N must be greater than or equal to 0\"\n",
    "    assert j>=0, \"j must be greater than or equal to 0\"\n",
    "    k = np.floor(j/2)\n",
    "    psi = np.zeros((2**N,2**N))\n",
    "    for n, row in enumerate(psi):\n",
    "        for m, elem in enumerate(row):\n",
    "            if (n-m == 2**j) and (n&2**j != 0) and (m&2**j == 0): \n",
    "                psi[m,n] = (-1)**Fermi(n,j)\n",
    "    return psi\n",
    "\n",
    "def psi_dag(N,j):\n",
    "    assert N%1 == 0, \"N must be an integer\"\n",
    "    assert j%1 == 0, \"j must be an integer\"\n",
    "    assert j<N, \"j must be less than N\"\n",
    "    assert j>=0, \"j must be greater than or equal to 0\"\n",
    "    psi = np.zeros((2**N,2**N))\n",
    "    for m, row in enumerate(psi):\n",
    "        for n, elem in enumerate(row):\n",
    "            if   (m-n == 2**j) and (n&2**j == 0) and (m&2**j != 0): \n",
    "                psi[m,n] = (-1)**Fermi(n,j)\n",
    "    return psi"
   ]
  },
  {
   "cell_type": "markdown",
   "metadata": {},
   "source": [
    "Two matrices A, B are equal `iff np.any(A-B) == False`"
   ]
  },
  {
   "cell_type": "code",
   "execution_count": 3,
   "metadata": {
    "collapsed": false
   },
   "outputs": [],
   "source": [
    "def check(N):\n",
    "    assert N%1 == 0, \"N must be an integer\"\n",
    "    assert N>=0, \"N must be greater than or equal to 0\"\n",
    "    for j in np.arange(N):\n",
    "        psi_j = psi(N,j)\n",
    "        psi_dag_j = psi_dag(N,j)\n",
    "        for i in np.arange(N):\n",
    "            psi_i = psi(N,i)\n",
    "            acom = anti_com(psi_j, psi_i)\n",
    "            if np.any(acom): return(0, \"{psi(%d,%d), psi(%d,%d)} \\ne 0\" % (N,j,N,i))\n",
    "            psi_dag_i = psi_dag(N,i)\n",
    "            acom = anti_com(psi_dag_j, psi_dag_i)\n",
    "            if np.any(acom): return(0, \"{psi_dag(%d,%d), psi_dag(%d,%d)} \\ne 0\" % (N,j,N,i))\n",
    "            acom = anti_com(psi_j, psi_dag_i)\n",
    "            if i == j:\n",
    "                if np.any(acom - np.eye(2**N)): return(0, \"{psi(%d,%d), psi_dag(%d,%d)} \\ne 1\" % (N,j,N,i))\n",
    "            else: \n",
    "                if np.any(acom): return(0, \"{psi(%d,%d), psi_dag(%d,%d)} \\ne 0\" % (N,j,N,i))\n",
    "    return(1, \"good\")"
   ]
  },
  {
   "cell_type": "code",
   "execution_count": 80,
   "metadata": {
    "collapsed": false
   },
   "outputs": [
    {
     "name": "stdout",
     "output_type": "stream",
     "text": [
      "[[ 0.  0.]\n",
      " [ 1.  0.]] \n",
      "\n",
      "[[ 0.  0.  0.  0.]\n",
      " [ 0.  0.  0.  0.]\n",
      " [ 1.  0.  0.  0.]\n",
      " [ 0. -1.  0.  0.]] \n",
      "\n",
      "[[ 0.  0.  0.  0.  0.  0.  0.  0.]\n",
      " [ 0.  0.  0.  0.  0.  0.  0.  0.]\n",
      " [ 0.  0.  0.  0.  0.  0.  0.  0.]\n",
      " [ 0.  0.  0.  0.  0.  0.  0.  0.]\n",
      " [ 1.  0.  0.  0.  0.  0.  0.  0.]\n",
      " [ 0. -1.  0.  0.  0.  0.  0.  0.]\n",
      " [ 0.  0. -1.  0.  0.  0.  0.  0.]\n",
      " [ 0.  0.  0.  1.  0.  0.  0.  0.]] \n",
      "\n",
      "[[ 0.  0.  0.  0.  0.  0.  0.  0.  0.  0.  0.  0.  0.  0.  0.  0.]\n",
      " [ 0.  0.  0.  0.  0.  0.  0.  0.  0.  0.  0.  0.  0.  0.  0.  0.]\n",
      " [ 0.  0.  0.  0.  0.  0.  0.  0.  0.  0.  0.  0.  0.  0.  0.  0.]\n",
      " [ 0.  0.  0.  0.  0.  0.  0.  0.  0.  0.  0.  0.  0.  0.  0.  0.]\n",
      " [ 1.  0.  0.  0.  0.  0.  0.  0.  0.  0.  0.  0.  0.  0.  0.  0.]\n",
      " [ 0. -1.  0.  0.  0.  0.  0.  0.  0.  0.  0.  0.  0.  0.  0.  0.]\n",
      " [ 0.  0. -1.  0.  0.  0.  0.  0.  0.  0.  0.  0.  0.  0.  0.  0.]\n",
      " [ 0.  0.  0.  1.  0.  0.  0.  0.  0.  0.  0.  0.  0.  0.  0.  0.]\n",
      " [ 0.  0.  0.  0.  0.  0.  0.  0.  0.  0.  0.  0.  0.  0.  0.  0.]\n",
      " [ 0.  0.  0.  0.  0.  0.  0.  0.  0.  0.  0.  0.  0.  0.  0.  0.]\n",
      " [ 0.  0.  0.  0.  0.  0.  0.  0.  0.  0.  0.  0.  0.  0.  0.  0.]\n",
      " [ 0.  0.  0.  0.  0.  0.  0.  0.  0.  0.  0.  0.  0.  0.  0.  0.]\n",
      " [ 0.  0.  0.  0.  0.  0.  0.  0.  1.  0.  0.  0.  0.  0.  0.  0.]\n",
      " [ 0.  0.  0.  0.  0.  0.  0.  0.  0. -1.  0.  0.  0.  0.  0.  0.]\n",
      " [ 0.  0.  0.  0.  0.  0.  0.  0.  0.  0. -1.  0.  0.  0.  0.  0.]\n",
      " [ 0.  0.  0.  0.  0.  0.  0.  0.  0.  0.  0.  1.  0.  0.  0.  0.]] \n",
      "\n",
      "[[ 0.  0.  0. ...,  0.  0.  0.]\n",
      " [ 0.  0.  0. ...,  0.  0.  0.]\n",
      " [ 0.  0.  0. ...,  0.  0.  0.]\n",
      " ..., \n",
      " [ 0.  0.  0. ...,  0.  0.  0.]\n",
      " [ 0.  0.  0. ...,  0.  0.  0.]\n",
      " [ 0.  0.  0. ...,  0.  0.  0.]] \n",
      "\n"
     ]
    }
   ],
   "source": [
    "print(psi_dag(1,0),'\\n')\n",
    "print(psi_dag(2,1),'\\n')\n",
    "print(psi_dag(3,2),'\\n')\n",
    "print(psi_dag(4,2),'\\n')\n",
    "print(psi_dag(5,2),'\\n')\n"
   ]
  },
  {
   "cell_type": "code",
   "execution_count": 84,
   "metadata": {
    "collapsed": false
   },
   "outputs": [
    {
     "name": "stdout",
     "output_type": "stream",
     "text": [
      "[[ 0.+0.j  0.+0.j]\n",
      " [ 0.+0.j  0.+0.j]]\n",
      "[[ 0.+1.j  0.+0.j]\n",
      " [ 0.+0.j  0.+0.j]]\n",
      "[[ 0.+1.j  0.+0.j]\n",
      " [ 0.+0.j  0.+0.j]]\n"
     ]
    }
   ],
   "source": [
    "b = np.zeros((2,2), dtype=complex)\n",
    "c = np.zeros((2,2), dtype=complex)\n",
    "b[0,0] = 1j\n",
    "print(c)\n",
    "print(b)\n",
    "print(c+b)"
   ]
  },
  {
   "cell_type": "code",
   "execution_count": 84,
   "metadata": {
    "collapsed": false
   },
   "outputs": [
    {
     "name": "stdout",
     "output_type": "stream",
     "text": [
      "0\n",
      "1\n",
      "2\n",
      "3\n",
      "4\n",
      "6\n",
      "7\n",
      "8\n",
      "9\n"
     ]
    }
   ],
   "source": [
    "for i in np.arange(10): \n",
    "    if i == 5: continue\n",
    "    print(i)"
   ]
  },
  {
   "cell_type": "code",
   "execution_count": 100,
   "metadata": {
    "collapsed": false
   },
   "outputs": [],
   "source": [
    "if 1==0: assert 0==1"
   ]
  },
  {
   "cell_type": "code",
   "execution_count": 4,
   "metadata": {
    "collapsed": false
   },
   "outputs": [
    {
     "data": {
      "text/plain": [
       "(1, 'good')"
      ]
     },
     "execution_count": 4,
     "metadata": {},
     "output_type": "execute_result"
    }
   ],
   "source": [
    "check(5)"
   ]
  },
  {
   "cell_type": "code",
   "execution_count": 75,
   "metadata": {
    "collapsed": false
   },
   "outputs": [
    {
     "name": "stdout",
     "output_type": "stream",
     "text": [
      "[[ True  True  True  True]\n",
      " [ True  True  True  True]\n",
      " [ True  True  True  True]\n",
      " [ True  True  True  True]]\n",
      "<class 'numpy.ndarray'>\n",
      "False\n",
      "<class 'numpy.ndarray'>\n",
      "True\n"
     ]
    }
   ],
   "source": [
    "print(psi(2,1) == psi(2,1))\n",
    "print(type(psi(2,1)))\n",
    "print(np.all([psi(2,1)+psi(2,0) == psi(2,1)]))\n",
    "print(type(np.asarray([[2,1],[1,3]])))\n",
    "print(np.all([np.asarray([[2,1],[1,3]]), np.asarray([[2,1],[1,3]])]))"
   ]
  },
  {
   "cell_type": "code",
   "execution_count": 71,
   "metadata": {
    "collapsed": false
   },
   "outputs": [
    {
     "ename": "ValueError",
     "evalue": "too many values to unpack (expected 2)",
     "output_type": "error",
     "traceback": [
      "\u001b[0;31m---------------------------------------------------------------------------\u001b[0m",
      "\u001b[0;31mValueError\u001b[0m                                Traceback (most recent call last)",
      "\u001b[0;32m<ipython-input-71-0d8f223e773b>\u001b[0m in \u001b[0;36m<module>\u001b[0;34m()\u001b[0m\n\u001b[0;32m----> 1\u001b[0;31m \u001b[0;32mfor\u001b[0m \u001b[0;34m(\u001b[0m\u001b[0ma\u001b[0m\u001b[0;34m,\u001b[0m\u001b[0mb\u001b[0m\u001b[0;34m)\u001b[0m \u001b[0;32min\u001b[0m \u001b[0mnp\u001b[0m\u001b[0;34m.\u001b[0m\u001b[0mzeros\u001b[0m\u001b[0;34m(\u001b[0m\u001b[0;34m(\u001b[0m\u001b[0;36m4\u001b[0m\u001b[0;34m,\u001b[0m\u001b[0;36m4\u001b[0m\u001b[0;34m)\u001b[0m\u001b[0;34m)\u001b[0m\u001b[0;34m:\u001b[0m \u001b[0mprint\u001b[0m\u001b[0;34m(\u001b[0m\u001b[0;34m'hi'\u001b[0m\u001b[0;34m)\u001b[0m\u001b[0;34m\u001b[0m\u001b[0m\n\u001b[0m",
      "\u001b[0;31mValueError\u001b[0m: too many values to unpack (expected 2)"
     ]
    }
   ],
   "source": [
    "for (a,b) in np.zeros((4,4)): print('hi')"
   ]
  },
  {
   "cell_type": "code",
   "execution_count": 24,
   "metadata": {
    "collapsed": false
   },
   "outputs": [
    {
     "name": "stdout",
     "output_type": "stream",
     "text": [
      "[[ 0.  0.  0.  0.]\n",
      " [ 1.  0.  0.  0.]\n",
      " [ 0.  0.  0.  0.]\n",
      " [ 0.  0.  0.  0.]]\n"
     ]
    }
   ],
   "source": [
    "ps = np.zeros((4,4))\n",
    "ps[1,0] = 1\n",
    "\n",
    "print(ps)"
   ]
  },
  {
   "cell_type": "code",
   "execution_count": null,
   "metadata": {
    "collapsed": true
   },
   "outputs": [],
   "source": []
  }
 ],
 "metadata": {
  "kernelspec": {
   "display_name": "Python 3",
   "language": "python",
   "name": "python3"
  },
  "language_info": {
   "codemirror_mode": {
    "name": "ipython",
    "version": 3
   },
   "file_extension": ".py",
   "mimetype": "text/x-python",
   "name": "python",
   "nbconvert_exporter": "python",
   "pygments_lexer": "ipython3",
   "version": "3.5.1"
  }
 },
 "nbformat": 4,
 "nbformat_minor": 0
}
