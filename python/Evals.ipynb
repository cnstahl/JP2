{
 "cells": [
  {
   "cell_type": "code",
   "execution_count": 26,
   "metadata": {
    "collapsed": false
   },
   "outputs": [],
   "source": [
    "%matplotlib inline\n",
    "from syk_susy_2 import *\n",
    "import numpy as np\n",
    "from numpy import linalg as LA\n",
    "import matplotlib.pyplot as plt"
   ]
  },
  {
   "cell_type": "code",
   "execution_count": 10,
   "metadata": {
    "collapsed": true
   },
   "outputs": [],
   "source": [
    "def find_evals(w):\n",
    "    tol = 2e-15\n",
    "    w.real[abs(w.real) < tol] = 0.0\n",
    "    w.imag[abs(w.imag) < tol] = 0.0\n",
    "    return w"
   ]
  },
  {
   "cell_type": "code",
   "execution_count": 17,
   "metadata": {
    "collapsed": false
   },
   "outputs": [
    {
     "name": "stdout",
     "output_type": "stream",
     "text": [
      "[ -9.47213595e+00 +0.00000000e+00j  -1.00000000e+01 +0.00000000e+00j\n",
      "  -1.00000000e+01 +0.00000000e+00j  -5.27864045e-01 +0.00000000e+00j\n",
      "  -5.27864045e-01 +0.00000000e+00j  -9.47213595e+00 +0.00000000e+00j\n",
      "  -5.27864045e-01 +0.00000000e+00j  -9.47213595e+00 +0.00000000e+00j\n",
      "  -9.47213595e+00 +0.00000000e+00j  -5.27864045e-01 +0.00000000e+00j\n",
      "  -1.58983865e-15 +9.37401120e-32j   6.26084172e-16 +1.03475114e-31j\n",
      "  -5.66666173e-16 +7.37192756e-17j  -5.66666173e-16 -7.37192756e-17j\n",
      "   9.96433200e-17 -4.78136057e-16j   9.96433200e-17 +4.78136057e-16j\n",
      "  -1.93710975e-16 -4.13742292e-32j  -6.02276042e-19 -1.83738725e-16j\n",
      "  -6.02276042e-19 +1.83738725e-16j   4.26635025e-17 +0.00000000e+00j\n",
      "  -8.48060354e-18 +0.00000000e+00j   1.89070668e-18 +0.00000000e+00j\n",
      "  -2.66105329e-32 +1.31194756e-66j   2.65946013e-33 -1.17245643e-65j\n",
      "  -2.11007855e-33 +2.17323643e-65j   5.42225161e-34 -2.26140420e-65j\n",
      "   7.58614157e-35 +2.02403253e-65j  -4.29873062e-49 -5.69734065e-65j\n",
      "   5.48470772e-50 -1.28184723e-49j   5.48470772e-50 +1.28184723e-49j\n",
      "  -1.00000000e+01 +0.00000000e+00j  -1.00000000e+01 +0.00000000e+00j] \n",
      "\n",
      "[ -9.47213595+0.j -10.00000000+0.j -10.00000000+0.j  -0.52786405+0.j\n",
      "  -0.52786405+0.j  -9.47213595+0.j  -0.52786405+0.j  -9.47213595+0.j\n",
      "  -9.47213595+0.j  -0.52786405+0.j   0.00000000+0.j   0.00000000+0.j\n",
      "   0.00000000+0.j   0.00000000+0.j   0.00000000+0.j   0.00000000+0.j\n",
      "   0.00000000+0.j   0.00000000+0.j   0.00000000+0.j   0.00000000+0.j\n",
      "   0.00000000+0.j   0.00000000+0.j   0.00000000+0.j   0.00000000+0.j\n",
      "   0.00000000+0.j   0.00000000+0.j   0.00000000+0.j   0.00000000+0.j\n",
      "   0.00000000+0.j   0.00000000+0.j -10.00000000+0.j -10.00000000+0.j]\n"
     ]
    }
   ],
   "source": [
    "H = damiltonian(5,1)\n",
    "w, v = LA.eig(H)\n",
    "print(w, \"\\n\")\n",
    "print(find_evals(w))"
   ]
  },
  {
   "cell_type": "code",
   "execution_count": 36,
   "metadata": {
    "collapsed": false
   },
   "outputs": [
    {
     "name": "stderr",
     "output_type": "stream",
     "text": [
      "/Users/cstahl/anaconda3/lib/python3.5/site-packages/ipykernel/__main__.py:10: ComplexWarning: Casting complex values to real discards the imaginary part\n"
     ]
    },
    {
     "data": {
      "image/png": "[encoded data removed]",
      "text/plain": [
       "<matplotlib.figure.Figure at 0x10e3e32b0>"
      ]
     },
     "metadata": {},
     "output_type": "display_data"
    }
   ],
   "source": [
    "N=5\n",
    "mod = 1\n",
    "diffs = np.arange(-mod, mod, mod/10)\n",
    "C = get_C(N,1)\n",
    "D = np.copy(C)\n",
    "evals = np.zeros((len(diffs), 2**N))\n",
    "for idx, val in enumerate(diffs):\n",
    "    C[1,2,3] = D[1,2,3] + val\n",
    "    w, v = LA.eig(hamiltonian(N,C=C))\n",
    "    evals[idx] = find_evals(w)\n",
    "for idx, row in enumerate(evals):\n",
    "    for val in row:\n",
    "        plt.scatter(idx,val)"
   ]
  },
  {
   "cell_type": "code",
   "execution_count": null,
   "metadata": {
    "collapsed": true
   },
   "outputs": [],
   "source": []
  }
 ],
 "metadata": {
  "kernelspec": {
   "display_name": "Python 3",
   "language": "python",
   "name": "python3"
  },
  "language_info": {
   "codemirror_mode": {
    "name": "ipython",
    "version": 3
   },
   "file_extension": ".py",
   "mimetype": "text/x-python",
   "name": "python",
   "nbconvert_exporter": "python",
   "pygments_lexer": "ipython3",
   "version": "3.5.3"
  }
 },
 "nbformat": 4,
 "nbformat_minor": 0
}
