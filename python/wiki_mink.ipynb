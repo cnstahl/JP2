{
 "cells": [
  {
   "cell_type": "code",
   "execution_count": 1,
   "metadata": {
    "collapsed": true
   },
   "outputs": [],
   "source": [
    "import numpy as np "
   ]
  },
  {
   "cell_type": "code",
   "execution_count": 2,
   "metadata": {
    "collapsed": false
   },
   "outputs": [],
   "source": [
    "sig_1 = np.asarray([[0,  1],[1, 0]])\n",
    "sig_2 = np.asarray([[0,-1j],[1j,0]])\n",
    "sig_3 = np.asarray([[1,  0],[0,-1]])\n",
    "ident = np.asarray([[1,  0],[0, 1]])"
   ]
  },
  {
   "cell_type": "code",
   "execution_count": 14,
   "metadata": {
    "collapsed": false
   },
   "outputs": [],
   "source": [
    "def anti_com(a,b):\n",
    "    return np.dot(a,b)+np.dot(b,a)\n",
    "\n",
    "def printreal(a):\n",
    "    for idx, elem in np.ndindex(a):\n",
    "        assert(np.imag(elem)==0), \"only rprint() real arrays\"\n",
    "        a[idx] = np.real(elem)\n",
    "    \n",
    "def isreal(a):\n",
    "    if np.ndim(a)==0: return False\n",
    "    for idx, elem in np.nditer(a):\n",
    "        if not np.isclose(np.imag(elem), 0): return False\n",
    "    return True\n",
    "\n",
    "def rprint(*args):\n",
    "    for a in args:\n",
    "        if isreal(a): a = printreal(a)\n",
    "    print(args)"
   ]
  },
  {
   "cell_type": "markdown",
   "metadata": {},
   "source": [
    "# Given $d$ Majorana Fermions,\n",
    "and $\\frac{d}{2}$ Dirac Fermions if $d$ is even,\n",
    "then the matrices are $N\\times N$, where $N=2^{d/2}$.\n",
    "\n",
    "$\\left\\lbrace\\gamma ^{\\mu }\\gamma ^{\\nu }\\right\\rbrace=2\\eta^{\\mu \\nu }\\,$\n",
    "\n",
    "$\\left|\\phi\\right\\rangle=\\left|\\alpha_0\\alpha_1\\dots\\alpha_N\\dots\\alpha_{2N}\\right\\rangle$  ??\n",
    "\n",
    "Notes: $\\texttt{np.dot()}$ does work how you would expect\n",
    "###### Indexing starts at 1"
   ]
  },
  {
   "cell_type": "code",
   "execution_count": 15,
   "metadata": {
    "collapsed": false
   },
   "outputs": [],
   "source": [
    "def psi(d,i):\n",
    "    assert d%1==0, \"d must be an integer\"\n",
    "    assert i%1==0, \"i must be an integer\"\n",
    "    assert d>1, \"dimension must be 2 or greater\"\n",
    "    assert i > 0 and i < d+1, \"i must be in [1...d]\"\n",
    "    if d == 2:\n",
    "        if i == 1: return  sig_1\n",
    "        if i == 2: return  -1j*sig_2\n",
    "        else: assert 0\n",
    "    if d == 3:\n",
    "        if i == 3: return np.asarray([[1j,0],[0,-1j]])\n",
    "        else: return psi(2,i)\n",
    "    if (d%2) == 0:\n",
    "        if i == d-1: return np.kron(np.eye(d-2, dtype=\"int\"), 1j*sig_1)\n",
    "        if i == d  : return np.kron(np.eye(d-2, dtype=\"int\"), 1j*sig_2)\n",
    "        else: return np.kron(psi(d-2,i), sig_3)\n",
    "        #else: return np.kron(psi(d-2,i), sig_3)\n",
    "    if (d%2) == 1:\n",
    "        if i == d  : return np.kron(psi(d-2,i-2),sig_3)\n",
    "        else: return psi(d-1,i)\n",
    "    assert 0"
   ]
  },
  {
   "cell_type": "code",
   "execution_count": 21,
   "metadata": {
    "collapsed": false
   },
   "outputs": [
    {
     "name": "stdout",
     "output_type": "stream",
     "text": [
      "1\n",
      "[[ 0  0  1  0]\n",
      " [ 0  0  0 -1]\n",
      " [ 1  0  0  0]\n",
      " [ 0 -1  0  0]]\n",
      "\n",
      "\n",
      "2\n",
      "[[ 0.+0.j  0.+0.j -1.+0.j -0.+0.j]\n",
      " [ 0.+0.j  0.+0.j -0.+0.j  1.-0.j]\n",
      " [ 1.+0.j  0.+0.j  0.+0.j  0.+0.j]\n",
      " [ 0.+0.j -1.+0.j  0.+0.j  0.+0.j]]\n",
      "\n",
      "\n",
      "3\n",
      "[[ 0.+0.j  0.+1.j  0.+0.j  0.+0.j]\n",
      " [ 0.+1.j  0.+0.j  0.+0.j  0.+0.j]\n",
      " [ 0.+0.j  0.+0.j  0.+0.j  0.+1.j]\n",
      " [ 0.+0.j  0.+0.j  0.+1.j  0.+0.j]]\n",
      "\n",
      "\n",
      "4\n",
      "[[ 0.+0.j  1.+0.j  0.+0.j  0.+0.j]\n",
      " [-1.+0.j  0.+0.j -0.+0.j  0.+0.j]\n",
      " [ 0.+0.j  0.+0.j  0.+0.j  1.+0.j]\n",
      " [-0.+0.j  0.+0.j -1.+0.j  0.+0.j]]\n",
      "\n",
      "\n"
     ]
    }
   ],
   "source": [
    "d = 4\n",
    "\n",
    "for i in np.arange(1,d+1):\n",
    "    print(i)\n",
    "    print(psi(d,i))\n",
    "    print('\\n')"
   ]
  },
  {
   "cell_type": "code",
   "execution_count": 44,
   "metadata": {
    "collapsed": false
   },
   "outputs": [
    {
     "name": "stdout",
     "output_type": "stream",
     "text": [
      "[[ 0.+0.j  1.+0.j  0.+0.j  0.+0.j  0.+0.j  0.+0.j  0.+0.j  0.+0.j]\n",
      " [-1.+0.j  0.+0.j -0.+0.j  0.+0.j -0.+0.j  0.+0.j -0.+0.j  0.+0.j]\n",
      " [ 0.+0.j  0.+0.j  0.+0.j  1.+0.j  0.+0.j  0.+0.j  0.+0.j  0.+0.j]\n",
      " [-0.+0.j  0.+0.j -1.+0.j  0.+0.j -0.+0.j  0.+0.j -0.+0.j  0.+0.j]\n",
      " [ 0.+0.j  0.+0.j  0.+0.j  0.+0.j  0.+0.j  1.+0.j  0.+0.j  0.+0.j]\n",
      " [-0.+0.j  0.+0.j -0.+0.j  0.+0.j -1.+0.j  0.+0.j -0.+0.j  0.+0.j]\n",
      " [ 0.+0.j  0.+0.j  0.+0.j  0.+0.j  0.+0.j  0.+0.j  0.+0.j  1.+0.j]\n",
      " [-0.+0.j  0.+0.j -0.+0.j  0.+0.j -0.+0.j  0.+0.j -1.+0.j  0.+0.j]]\n",
      "\n",
      "{psi^i,psi^i}\n",
      "[[-2.+0.j  0.+0.j  0.+0.j  0.+0.j  0.+0.j  0.+0.j  0.+0.j  0.+0.j]\n",
      " [ 0.+0.j -2.+0.j  0.+0.j  0.+0.j  0.+0.j  0.+0.j  0.+0.j  0.+0.j]\n",
      " [ 0.+0.j  0.+0.j -2.+0.j  0.+0.j  0.+0.j  0.+0.j  0.+0.j  0.+0.j]\n",
      " [ 0.+0.j  0.+0.j  0.+0.j -2.+0.j  0.+0.j  0.+0.j  0.+0.j  0.+0.j]\n",
      " [ 0.+0.j  0.+0.j  0.+0.j  0.+0.j -2.+0.j  0.+0.j  0.+0.j  0.+0.j]\n",
      " [ 0.+0.j  0.+0.j  0.+0.j  0.+0.j  0.+0.j -2.+0.j  0.+0.j  0.+0.j]\n",
      " [ 0.+0.j  0.+0.j  0.+0.j  0.+0.j  0.+0.j  0.+0.j -2.+0.j  0.+0.j]\n",
      " [ 0.+0.j  0.+0.j  0.+0.j  0.+0.j  0.+0.j  0.+0.j  0.+0.j -2.+0.j]]\n",
      "\n",
      "{psi^i,psi^j}\n",
      "[[ 0.+0.j  0.+0.j  0.+0.j  0.+0.j  0.+0.j  0.+0.j  0.+0.j  0.+0.j]\n",
      " [ 0.+0.j  0.+0.j  0.+0.j  0.+0.j  0.+0.j  0.+0.j  0.+0.j  0.+0.j]\n",
      " [ 0.+0.j  0.+0.j  0.+0.j  0.+0.j  0.+0.j  0.+0.j  0.+0.j  0.+0.j]\n",
      " [ 0.+0.j  0.+0.j  0.+0.j  0.+0.j  0.+0.j  0.+0.j  0.+0.j  0.+0.j]\n",
      " [ 0.+0.j  0.+0.j  0.+0.j  0.+0.j  0.+0.j  0.+0.j  0.+0.j  0.+0.j]\n",
      " [ 0.+0.j  0.+0.j  0.+0.j  0.+0.j  0.+0.j  0.+0.j  0.+0.j  0.+0.j]\n",
      " [ 0.+0.j  0.+0.j  0.+0.j  0.+0.j  0.+0.j  0.+0.j  0.+0.j  0.+0.j]\n",
      " [ 0.+0.j  0.+0.j  0.+0.j  0.+0.j  0.+0.j  0.+0.j  0.+0.j  0.+0.j]]\n"
     ]
    }
   ],
   "source": [
    "d = 6\n",
    "i = 6\n",
    "N = int(2**np.floor(d/2))\n",
    "\n",
    "print(psi(d,i))\n",
    "print(\"\\n{psi^i,psi^i}\")\n",
    "print(anti_com(psi(d,i),psi(d,i)))\n",
    "print(\"\\n{psi^i,psi^j}\")\n",
    "if d==i: print(anti_com(psi(d,i),psi(d,i-1)))\n",
    "else:    print(anti_com(psi(d,i),psi(d,i+1)))"
   ]
  },
  {
   "cell_type": "markdown",
   "metadata": {
    "collapsed": false
   },
   "source": [
    "### d = 5\n",
    "N = int(2**np.floor(d/2))\n",
    "\n",
    "psi0 = psi(d,1)\n",
    "psi1 = psi(d,2)\n",
    "psi2 = psi(d,3)\n",
    "psi3 = psi(d,4)\n",
    "\n",
    "psi4 = np.dot(np.dot(psi0,psi1), np.dot(psi2,psi3))\n",
    "psi4 = psi(d,4)\n",
    "\n",
    "print(psi4)\n",
    "print(np.isclose(anti_com(psi4,psi4),2*np.eye(N)))\n",
    "for p in [psi0,psi1,psi2,psi3]:\n",
    "    print(p)\n",
    "    print(np.isclose(anti_com(psi4,p), np.zeros((N,N))))"
   ]
  },
  {
   "cell_type": "code",
   "execution_count": 51,
   "metadata": {
    "collapsed": false
   },
   "outputs": [
    {
     "name": "stdout",
     "output_type": "stream",
     "text": [
      "[[0 0 0 0]\n",
      " [0 0 0 0]\n",
      " [0 0 0 0]\n",
      " [0 0 0 0]] \n",
      "\n",
      "[[0 0 0 0]\n",
      " [0 0 0 0]\n",
      " [0 0 0 0]\n",
      " [0 0 0 0]]\n",
      "[[0 0 0 0]\n",
      " [0 0 0 0]\n",
      " [0 0 0 0]\n",
      " [0 0 0 0]]\n",
      "[[0 0 0 0]\n",
      " [0 0 0 0]\n",
      " [0 0 0 0]\n",
      " [0 0 0 0]]\n",
      "[[0 0 0 0]\n",
      " [0 0 0 0]\n",
      " [0 0 0 0]\n",
      " [0 0 0 0]]\n"
     ]
    }
   ],
   "source": [
    "d = 4\n",
    "N = int(2**np.floor(d/2))\n",
    "p = np.zeros((d+1,N,N), dtype=\"int\")\n",
    "\n",
    "p[1] = psi(d,1)\n",
    "p[2] = psi(d,2)\n",
    "pc = p[1]\n",
    "for i in np.arange(2,d+1):\n",
    "    pc = np.dot(pc,p[i])\n",
    "#print(np.dot(pc,pc))\n",
    "print(np.dot(np.dot(p[1],p[2]),np.dot(p[3],p[4])), '\\n')\n",
    "\n",
    "for i in np.arange(1,d+1):\n",
    "    print(anti_com(pc,p[i]))"
   ]
  },
  {
   "cell_type": "code",
   "execution_count": 129,
   "metadata": {
    "collapsed": false
   },
   "outputs": [
    {
     "ename": "AttributeError",
     "evalue": "module 'numpy' has no attribute 'isarray'",
     "output_type": "error",
     "traceback": [
      "\u001b[0;31m---------------------------------------------------------------------------\u001b[0m",
      "\u001b[0;31mAttributeError\u001b[0m                            Traceback (most recent call last)",
      "\u001b[0;32m<ipython-input-129-f89eda77abb6>\u001b[0m in \u001b[0;36m<module>\u001b[0;34m()\u001b[0m\n\u001b[0;32m----> 1\u001b[0;31m \u001b[0mnp\u001b[0m\u001b[0;34m.\u001b[0m\u001b[0misarray\u001b[0m\u001b[0;34m(\u001b[0m\u001b[0;36m2\u001b[0m\u001b[0;34m)\u001b[0m\u001b[0;34m\u001b[0m\u001b[0m\n\u001b[0m",
      "\u001b[0;31mAttributeError\u001b[0m: module 'numpy' has no attribute 'isarray'"
     ]
    }
   ],
   "source": [
    "np.isarray(2)"
   ]
  },
  {
   "cell_type": "code",
   "execution_count": null,
   "metadata": {
    "collapsed": true
   },
   "outputs": [],
   "source": [
    "clear(psi)"
   ]
  },
  {
   "cell_type": "code",
   "execution_count": 85,
   "metadata": {
    "collapsed": false
   },
   "outputs": [
    {
     "data": {
      "text/plain": [
       "array([-1.+0.j])"
      ]
     },
     "execution_count": 85,
     "metadata": {},
     "output_type": "execute_result"
    }
   ],
   "source": [
    "np.asarray([1j*1j])"
   ]
  },
  {
   "cell_type": "code",
   "execution_count": 118,
   "metadata": {
    "collapsed": false
   },
   "outputs": [
    {
     "name": "stdout",
     "output_type": "stream",
     "text": [
      "[[1 0]\n",
      " [0 0]]\n",
      "(0, 0) 1\n",
      "(0, 1) 0\n",
      "(1, 0) 0\n",
      "(1, 1) 0\n",
      "[[1 0]\n",
      " [0 0]]\n"
     ]
    }
   ],
   "source": [
    "a = np.asarray([[0,0],[0,0]])\n",
    "b = np.copy(a)\n",
    "b[0,0] = 1\n",
    "print(b)\n",
    "for idx, elem in np.ndenumerate(b): \n",
    "    a[idx] = elem\n",
    "    print(idx, elem)\n",
    "    \n",
    "print(a)"
   ]
  },
  {
   "cell_type": "code",
   "execution_count": 13,
   "metadata": {
    "collapsed": false
   },
   "outputs": [
    {
     "data": {
      "text/plain": [
       "0"
      ]
     },
     "execution_count": 13,
     "metadata": {},
     "output_type": "execute_result"
    }
   ],
   "source": [
    "np.ndim(1)"
   ]
  },
  {
   "cell_type": "code",
   "execution_count": null,
   "metadata": {
    "collapsed": true
   },
   "outputs": [],
   "source": []
  }
 ],
 "metadata": {
  "kernelspec": {
   "display_name": "Python 3",
   "language": "python",
   "name": "python3"
  },
  "language_info": {
   "codemirror_mode": {
    "name": "ipython",
    "version": 3
   },
   "file_extension": ".py",
   "mimetype": "text/x-python",
   "name": "python",
   "nbconvert_exporter": "python",
   "pygments_lexer": "ipython3",
   "version": "3.5.1"
  }
 },
 "nbformat": 4,
 "nbformat_minor": 0
}
