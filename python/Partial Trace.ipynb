{
 "cells": [
  {
   "cell_type": "code",
   "execution_count": 1,
   "metadata": {
    "collapsed": true
   },
   "outputs": [],
   "source": [
    "########################################\n",
    "#  Deprecated. See manipulate.py       #\n",
    "#  import numpy as np                  #\n",
    "#  import manipulate                   #\n",
    "########################################"
   ]
  },
  {
   "cell_type": "code",
   "execution_count": 2,
   "metadata": {
    "collapsed": true
   },
   "outputs": [],
   "source": [
    "w = np.asarray([0,1,2,3,4,5,6,7])"
   ]
  },
  {
   "cell_type": "code",
   "execution_count": 3,
   "metadata": {
    "collapsed": false
   },
   "outputs": [],
   "source": [
    "def single_trace(rho):\n",
    "    N = len(rho)\n",
    "    assert N%2 == 0, \"\\psi has to have even length\"\n",
    "    M = int(N/2)\n",
    "    r = np.zeros((M,M))\n",
    "    for idx in range(M):\n",
    "        for jdx in range(M):\n",
    "            r[idx, jdx] = rho[idx, jdx] + rho[idx + M, jdx + M]\n",
    "    return r\n",
    "\n",
    "def partial_trace(rho, traces=1):\n",
    "    N = len(rho)\n",
    "    assert N >= 2**traces, \"Too many particles to trace over\"\n",
    "    for i in range(traces):\n",
    "        rho = single_trace(rho)\n",
    "    return rho"
   ]
  },
  {
   "cell_type": "code",
   "execution_count": 4,
   "metadata": {
    "collapsed": false
   },
   "outputs": [
    {
     "name": "stdout",
     "output_type": "stream",
     "text": [
      "[[ 0  1  2  3  4  5  6  7]\n",
      " [ 1  2  3  4  5  6  7  8]\n",
      " [ 2  3  4  5  6  7  8  9]\n",
      " [ 3  4  5  6  7  8  9 10]\n",
      " [ 4  5  6  7  8  9 10 11]\n",
      " [ 5  6  7  8  9 10 11 12]\n",
      " [ 6  7  8  9 10 11 12 13]\n",
      " [ 7  8  9 10 11 12 13 14]]\n"
     ]
    }
   ],
   "source": [
    "M = np.asarray([w,w+1,w+2,w+3,w+4,w+5,w+6,w+7])\n",
    "print(M)"
   ]
  },
  {
   "cell_type": "code",
   "execution_count": 7,
   "metadata": {
    "collapsed": false
   },
   "outputs": [
    {
     "data": {
      "text/plain": [
       "array([[ 24.,  28.],\n",
       "       [ 28.,  32.]])"
      ]
     },
     "execution_count": 7,
     "metadata": {},
     "output_type": "execute_result"
    }
   ],
   "source": [
    "manipulate.partial_trace(M,2)"
   ]
  },
  {
   "cell_type": "code",
   "execution_count": null,
   "metadata": {
    "collapsed": true
   },
   "outputs": [],
   "source": []
  }
 ],
 "metadata": {
  "kernelspec": {
   "display_name": "Python 3",
   "language": "python",
   "name": "python3"
  },
  "language_info": {
   "codemirror_mode": {
    "name": "ipython",
    "version": 3
   },
   "file_extension": ".py",
   "mimetype": "text/x-python",
   "name": "python",
   "nbconvert_exporter": "python",
   "pygments_lexer": "ipython3",
   "version": "3.5.3"
  }
 },
 "nbformat": 4,
 "nbformat_minor": 0
}
