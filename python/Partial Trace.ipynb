{
 "cells": [
  {
   "cell_type": "code",
   "execution_count": 1,
   "metadata": {
    "collapsed": true
   },
   "outputs": [],
   "source": [
    "import numpy as np"
   ]
  },
  {
   "cell_type": "code",
   "execution_count": 20,
   "metadata": {
    "collapsed": true
   },
   "outputs": [],
   "source": [
    "w = np.asarray([0,1,2,3,4,5,6,7])"
   ]
  },
  {
   "cell_type": "code",
   "execution_count": 45,
   "metadata": {
    "collapsed": false
   },
   "outputs": [],
   "source": [
    "def single_trace(rho):\n",
    "    N = len(rho)\n",
    "    assert N%2 == 0, \"\\psi has to have even length\"\n",
    "    M = int(N/2)\n",
    "    r = np.zeros((M,M))\n",
    "    for idx in range(M):\n",
    "        for jdx in range(M):\n",
    "            r[idx, jdx] = rho[idx, jdx] + rho[idx + N/2, jdx + N/2]\n",
    "    return r\n",
    "\n",
    "def partial_trace(rho, traces=1):\n",
    "    N = len(rho)\n",
    "    assert N >= 2**traces, \"Too many particles to trace over\"\n",
    "    for i in range(traces):\n",
    "        rho = single_trace(rho)\n",
    "    return rho"
   ]
  },
  {
   "cell_type": "code",
   "execution_count": 46,
   "metadata": {
    "collapsed": false
   },
   "outputs": [
    {
     "name": "stdout",
     "output_type": "stream",
     "text": [
      "[[ 0  1  2  3  4  5  6  7]\n",
      " [ 1  2  3  4  5  6  7  8]\n",
      " [ 2  3  4  5  6  7  8  9]\n",
      " [ 3  4  5  6  7  8  9 10]\n",
      " [ 4  5  6  7  8  9 10 11]\n",
      " [ 5  6  7  8  9 10 11 12]\n",
      " [ 6  7  8  9 10 11 12 13]\n",
      " [ 7  8  9 10 11 12 13 14]]\n"
     ]
    }
   ],
   "source": [
    "M = np.asarray([w,w+1,w+2,w+3,w+4,w+5,w+6,w+7])\n",
    "print(partial_trace(M,0))"
   ]
  },
  {
   "cell_type": "code",
   "execution_count": 51,
   "metadata": {
    "collapsed": false
   },
   "outputs": [
    {
     "name": "stdout",
     "output_type": "stream",
     "text": [
      "[[ 56.]]\n"
     ]
    },
    {
     "name": "stderr",
     "output_type": "stream",
     "text": [
      "/Users/cstahl/anaconda3/lib/python3.5/site-packages/ipykernel/__main__.py:8: DeprecationWarning: using a non-integer number instead of an integer will result in an error in the future\n"
     ]
    }
   ],
   "source": [
    "M = np.asarray([w,w+1,w+2,w+3,w+4,w+5,w+6,w+7])\n",
    "print(partial_trace(M,3))"
   ]
  },
  {
   "cell_type": "code",
   "execution_count": null,
   "metadata": {
    "collapsed": true
   },
   "outputs": [],
   "source": []
  }
 ],
 "metadata": {
  "kernelspec": {
   "display_name": "Python 3",
   "language": "python",
   "name": "python3"
  },
  "language_info": {
   "codemirror_mode": {
    "name": "ipython",
    "version": 3
   },
   "file_extension": ".py",
   "mimetype": "text/x-python",
   "name": "python",
   "nbconvert_exporter": "python",
   "pygments_lexer": "ipython3",
   "version": "3.5.3"
  }
 },
 "nbformat": 4,
 "nbformat_minor": 0
}
