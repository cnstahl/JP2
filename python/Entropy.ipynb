{
 "cells": [
  {
   "cell_type": "code",
   "execution_count": 1,
   "metadata": {
    "collapsed": true
   },
   "outputs": [],
   "source": [
    "from syk_susy_2 import *\n",
    "import manipulate\n",
    "import math"
   ]
  },
  {
   "cell_type": "code",
   "execution_count": 5,
   "metadata": {
    "collapsed": false
   },
   "outputs": [
    {
     "name": "stderr",
     "output_type": "stream",
     "text": [
      "/Users/cstahl/Documents/Junior/Junior Paper II/python/manipulate.py:15: ComplexWarning: Casting complex values to real discards the imaginary part\n",
      "  rho[i,j] = sum(psi[i:i+N+1]*psi[j:j+N+1].conjugate())\n"
     ]
    },
    {
     "name": "stdout",
     "output_type": "stream",
     "text": [
      "Entropy for N =  2, trace over  1 psis is -0.000000\n",
      "Entropy for N =  3, trace over  1 psis is -0.000000\n",
      "Entropy for N =  4, trace over  1 psis is -0.000000\n",
      "Entropy for N =  4, trace over  2 psis is 0.708855\n",
      "Entropy for N =  4, trace over  3 psis is 1.078901\n",
      "Entropy for N =  5, trace over  1 psis is -0.000000\n",
      "Entropy for N =  5, trace over  2 psis is 0.694448\n",
      "Entropy for N =  5, trace over  3 psis is 1.074759\n",
      "Entropy for N =  6, trace over  1 psis is 0.000000\n",
      "Entropy for N =  6, trace over  2 psis is 0.674860\n",
      "Entropy for N =  6, trace over  3 psis is 1.072956\n",
      "Entropy for N =  6, trace over  4 psis is 1.351518\n",
      "Entropy for N =  6, trace over  5 psis is 1.555873\n",
      "Entropy for N =  6, trace over  6 psis is 1.717532\n",
      "Entropy for N =  6, trace over  7 psis is 1.842580\n",
      "Entropy for N =  7, trace over  1 psis is -0.000000\n",
      "Entropy for N =  7, trace over  2 psis is 0.697730\n",
      "Entropy for N =  7, trace over  3 psis is 1.094207\n",
      "Entropy for N =  7, trace over  4 psis is 1.366633\n",
      "Entropy for N =  7, trace over  5 psis is 1.573617\n",
      "Entropy for N =  7, trace over  6 psis is 1.739909\n",
      "Entropy for N =  7, trace over  7 psis is 1.878710\n",
      "Entropy for N =  8, trace over  1 psis is -0.000000\n",
      "Entropy for N =  8, trace over  2 psis is 0.695687\n",
      "Entropy for N =  8, trace over  3 psis is 1.095267\n",
      "Entropy for N =  8, trace over  4 psis is 1.373422\n",
      "Entropy for N =  8, trace over  5 psis is 1.586152\n",
      "Entropy for N =  8, trace over  6 psis is 1.756164\n",
      "Entropy for N =  8, trace over  7 psis is 1.897584\n",
      "Entropy for N =  8, trace over  8 psis is 2.018177\n",
      "Entropy for N =  8, trace over  9 psis is 2.123022\n",
      "Entropy for N =  8, trace over 10 psis is 2.215835\n",
      "Entropy for N =  8, trace over 11 psis is 2.298154\n",
      "Entropy for N =  8, trace over 12 psis is 2.371253\n",
      "Entropy for N =  8, trace over 13 psis is 2.436963\n",
      "Entropy for N =  8, trace over 14 psis is 2.496520\n",
      "Entropy for N =  8, trace over 15 psis is 2.550894\n",
      "Entropy for N =  9, trace over  1 psis is -0.000000\n",
      "Entropy for N =  9, trace over  2 psis is 0.692305\n",
      "Entropy for N =  9, trace over  3 psis is 1.096432\n",
      "Entropy for N =  9, trace over  4 psis is 1.382124\n",
      "Entropy for N =  9, trace over  5 psis is 1.601508\n",
      "Entropy for N =  9, trace over  6 psis is 1.777625\n",
      "Entropy for N =  9, trace over  7 psis is 1.925738\n",
      "Entropy for N =  9, trace over  8 psis is 2.053075\n",
      "Entropy for N =  9, trace over  9 psis is 2.165179\n",
      "Entropy for N =  9, trace over 10 psis is 2.265205\n",
      "Entropy for N =  9, trace over 11 psis is 2.354754\n",
      "Entropy for N =  9, trace over 12 psis is 2.436246\n",
      "Entropy for N =  9, trace over 13 psis is 2.510717\n",
      "Entropy for N =  9, trace over 14 psis is 2.579099\n",
      "Entropy for N =  9, trace over 15 psis is 2.642581\n",
      "Entropy for N = 10, trace over  1 psis is -0.000000\n",
      "Entropy for N = 10, trace over  2 psis is 0.693760\n",
      "Entropy for N = 10, trace over  3 psis is 1.098009\n",
      "Entropy for N = 10, trace over  4 psis is 1.384007\n",
      "Entropy for N = 10, trace over  5 psis is 1.605467\n",
      "Entropy for N = 10, trace over  6 psis is 1.785621\n",
      "Entropy for N = 10, trace over  7 psis is 1.937332\n",
      "Entropy for N = 10, trace over  8 psis is 2.068389\n",
      "Entropy for N = 10, trace over  9 psis is 2.183785\n",
      "Entropy for N = 10, trace over 10 psis is 2.286383\n",
      "Entropy for N = 10, trace over 11 psis is 2.379043\n",
      "Entropy for N = 10, trace over 12 psis is 2.463257\n",
      "Entropy for N = 10, trace over 13 psis is 2.539781\n",
      "Entropy for N = 10, trace over 14 psis is 2.610375\n",
      "Entropy for N = 10, trace over 15 psis is 2.675745\n",
      "Entropy for N = 10, trace over 16 psis is 2.736784\n",
      "Entropy for N = 10, trace over 17 psis is 2.794090\n",
      "Entropy for N = 10, trace over 18 psis is 2.847859\n",
      "Entropy for N = 10, trace over 19 psis is 2.898640\n",
      "Entropy for N = 10, trace over 20 psis is 2.946739\n",
      "Entropy for N = 10, trace over 21 psis is 2.992102\n",
      "Entropy for N = 10, trace over 22 psis is 3.035243\n",
      "Entropy for N = 10, trace over 23 psis is 3.076345\n",
      "Entropy for N = 10, trace over 24 psis is 3.115342\n",
      "Entropy for N = 10, trace over 25 psis is 3.152506\n",
      "Entropy for N = 10, trace over 26 psis is 3.188049\n",
      "Entropy for N = 10, trace over 27 psis is 3.222195\n",
      "Entropy for N = 10, trace over 28 psis is 3.254699\n",
      "Entropy for N = 10, trace over 29 psis is 3.285959\n",
      "Entropy for N = 10, trace over 30 psis is 3.315571\n",
      "Entropy for N = 10, trace over 31 psis is 3.344145\n",
      "Entropy for N = 11, trace over  1 psis is -0.000000\n",
      "Entropy for N = 11, trace over  2 psis is 0.692766\n",
      "Entropy for N = 11, trace over  3 psis is 1.097853\n",
      "Entropy for N = 11, trace over  4 psis is 1.384745\n",
      "Entropy for N = 11, trace over  5 psis is 1.606704\n",
      "Entropy for N = 11, trace over  6 psis is 1.787706\n",
      "Entropy for N = 11, trace over  7 psis is 1.940367\n",
      "Entropy for N = 11, trace over  8 psis is 2.072469\n",
      "Entropy for N = 11, trace over  9 psis is 2.188668\n",
      "Entropy for N = 11, trace over 10 psis is 2.292525\n",
      "Entropy for N = 11, trace over 11 psis is 2.386288\n",
      "Entropy for N = 11, trace over 12 psis is 2.471627\n",
      "Entropy for N = 11, trace over 13 psis is 2.550030\n",
      "Entropy for N = 11, trace over 14 psis is 2.622598\n",
      "Entropy for N = 11, trace over 15 psis is 2.689015\n",
      "Entropy for N = 11, trace over 16 psis is 2.750970\n",
      "Entropy for N = 11, trace over 17 psis is 2.808880\n",
      "Entropy for N = 11, trace over 18 psis is 2.863468\n",
      "Entropy for N = 11, trace over 19 psis is 2.915033\n",
      "Entropy for N = 11, trace over 20 psis is 2.963810\n",
      "Entropy for N = 11, trace over 21 psis is 3.009766\n",
      "Entropy for N = 11, trace over 22 psis is 3.053572\n",
      "Entropy for N = 11, trace over 23 psis is 3.095385\n",
      "Entropy for N = 11, trace over 24 psis is 3.135258\n",
      "Entropy for N = 11, trace over 25 psis is 3.173120\n",
      "Entropy for N = 11, trace over 26 psis is 3.208727\n",
      "Entropy for N = 11, trace over 27 psis is 3.242941\n",
      "Entropy for N = 11, trace over 28 psis is 3.275705\n",
      "Entropy for N = 11, trace over 29 psis is 3.307293\n",
      "Entropy for N = 11, trace over 30 psis is 3.337775\n",
      "Entropy for N = 11, trace over 31 psis is 3.367206\n"
     ]
    }
   ],
   "source": [
    "for N in range(12):\n",
    "    H = hamiltonian(N,1)\n",
    "    w, v = manipulate.eigen(H)\n",
    "    ngs = sum(w==0)\n",
    "    tot_gs = v[0]\n",
    "    for i in range(1,ngs):\n",
    "        tot_gs += v[i]\n",
    "    tot_gs = tot_gs/math.sqrt(ngs)\n",
    "    for i in range(1,int(2**np.floor(N/2))):\n",
    "        rho = manipulate.partial_trace(i, tot_gs)\n",
    "        print(\"Entropy for N = %2d, trace over %2d psis is %1.6f\" % (N,i,-manipulate.entropy(rho)))"
   ]
  },
  {
   "cell_type": "code",
   "execution_count": null,
   "metadata": {
    "collapsed": true
   },
   "outputs": [],
   "source": []
  }
 ],
 "metadata": {
  "kernelspec": {
   "display_name": "Python 3",
   "language": "python",
   "name": "python3"
  },
  "language_info": {
   "codemirror_mode": {
    "name": "ipython",
    "version": 3
   },
   "file_extension": ".py",
   "mimetype": "text/x-python",
   "name": "python",
   "nbconvert_exporter": "python",
   "pygments_lexer": "ipython3",
   "version": "3.5.3"
  }
 },
 "nbformat": 4,
 "nbformat_minor": 0
}
