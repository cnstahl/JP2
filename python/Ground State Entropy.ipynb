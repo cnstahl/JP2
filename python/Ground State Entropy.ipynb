{
 "cells": [
  {
   "cell_type": "code",
   "execution_count": 32,
   "metadata": {
    "collapsed": false
   },
   "outputs": [],
   "source": [
    "%matplotlib inline\n",
    "from syk_susy_2 import *\n",
    "import numpy as np\n",
    "from numpy import linalg as LA\n",
    "import scipy.linalg as SLA\n",
    "import matplotlib.pyplot as plt\n",
    "import manipulate\n",
    "from importlib import reload\n",
    "reload(manipulate)\n",
    "import math"
   ]
  },
  {
   "cell_type": "code",
   "execution_count": 2,
   "metadata": {
    "collapsed": false
   },
   "outputs": [
    {
     "ename": "SyntaxError",
     "evalue": "invalid syntax (<ipython-input-2-f33930c34801>, line 1)",
     "output_type": "error",
     "traceback": [
      "\u001b[0;36m  File \u001b[0;32m\"<ipython-input-2-f33930c34801>\"\u001b[0;36m, line \u001b[0;32m1\u001b[0m\n\u001b[0;31m    def random_sum()\u001b[0m\n\u001b[0m                    ^\u001b[0m\n\u001b[0;31mSyntaxError\u001b[0m\u001b[0;31m:\u001b[0m invalid syntax\n"
     ]
    }
   ],
   "source": [
    "def random_sum()"
   ]
  },
  {
   "cell_type": "code",
   "execution_count": 17,
   "metadata": {
    "collapsed": false
   },
   "outputs": [],
   "source": [
    "H = hamiltonian(9,1)\n",
    "w, v = manipulate.eigen(H)"
   ]
  },
  {
   "cell_type": "code",
   "execution_count": 18,
   "metadata": {
    "collapsed": false
   },
   "outputs": [
    {
     "name": "stdout",
     "output_type": "stream",
     "text": [
      "(-8.881784197e-15-2.77555756156e-16j)\n"
     ]
    }
   ],
   "source": [
    "w = manipulate.set_zeros(w)\n",
    "Ha = manipulate.reconstruct(w,v)\n",
    "print(np.min(Ha-H))"
   ]
  },
  {
   "cell_type": "code",
   "execution_count": 20,
   "metadata": {
    "collapsed": false
   },
   "outputs": [],
   "source": [
    "ngs = sum(w==0)\n",
    "tot_gs = np.copy(v[:,0])\n",
    "for i in range(1,ngs):\n",
    "    tot_gs += v[:,i]\n",
    "tot_gs = tot_gs/math.sqrt(ngs)\n",
    "# print(tot_gs)"
   ]
  },
  {
   "cell_type": "code",
   "execution_count": null,
   "metadata": {
    "collapsed": false
   },
   "outputs": [],
   "source": [
    "manipulate.entropy(rho)\n",
    "# manipulate.entropy(np.asarray([[1,0,0],[0,0,0],[0,0,0]])) # = 0"
   ]
  },
  {
   "cell_type": "code",
   "execution_count": 22,
   "metadata": {
    "collapsed": false
   },
   "outputs": [
    {
     "name": "stderr",
     "output_type": "stream",
     "text": [
      "/Users/cstahl/anaconda3/lib/python3.5/site-packages/ipykernel/__main__.py:6: ComplexWarning: Casting complex values to real discards the imaginary part\n",
      "/Users/cstahl/Documents/Junior/Junior Paper II/python/manipulate.py:17: ComplexWarning: Casting complex values to real discards the imaginary part\n",
      "  r[idx, jdx] = rho[idx, jdx] + rho[idx + N/2, jdx + N/2]\n"
     ]
    },
    {
     "data": {
      "text/plain": [
       "<matplotlib.collections.PathCollection at 0x114772f98>"
      ]
     },
     "execution_count": 22,
     "metadata": {},
     "output_type": "execute_result"
    },
    {
     "data": {
      "image/png": "[encoded data removed]",
      "text/plain": [
       "<matplotlib.figure.Figure at 0x10e178198>"
      ]
     },
     "metadata": {},
     "output_type": "display_data"
    }
   ],
   "source": [
    "rho = manipulate.density_mat(tot_gs)\n",
    "entropies = np.zeros(9)\n",
    "rhoi = np.copy(rho)\n",
    "for idx, val in enumerate(entropies):\n",
    "    if idx != 0: rhoi = manipulate.single_trace(rhoi)\n",
    "    entropies[idx] = manipulate.entropy(rhoi)\n",
    "plt.scatter(range(9), entropies)"
   ]
  },
  {
   "cell_type": "code",
   "execution_count": 14,
   "metadata": {
    "collapsed": false
   },
   "outputs": [
    {
     "data": {
      "text/plain": [
       "nan"
      ]
     },
     "execution_count": 14,
     "metadata": {},
     "output_type": "execute_result"
    }
   ],
   "source": [
    "entropies[4]"
   ]
  },
  {
   "cell_type": "code",
   "execution_count": 36,
   "metadata": {
    "collapsed": false
   },
   "outputs": [
    {
     "name": "stderr",
     "output_type": "stream",
     "text": [
      "/Users/cstahl/anaconda3/lib/python3.5/site-packages/ipykernel/__main__.py:15: ComplexWarning: Casting complex values to real discards the imaginary part\n",
      "/Users/cstahl/Documents/Junior/Junior Paper II/python/manipulate.py:17: ComplexWarning: Casting complex values to real discards the imaginary part\n",
      "  r[idx, jdx] = rho[idx, jdx] + rho[idx + N/2, jdx + N/2]\n"
     ]
    },
    {
     "data": {
      "image/png": "[encoded data removed]",
      "text/plain": [
       "<matplotlib.figure.Figure at 0x117693208>"
      ]
     },
     "metadata": {},
     "output_type": "display_data"
    },
    {
     "name": "stdout",
     "output_type": "stream",
     "text": [
      "N =  6 entropy[2] =  1.768341477\n"
     ]
    },
    {
     "data": {
      "image/png": "[encoded data removed]",
      "text/plain": [
       "<matplotlib.figure.Figure at 0x1201f6c50>"
      ]
     },
     "metadata": {},
     "output_type": "display_data"
    },
    {
     "name": "stdout",
     "output_type": "stream",
     "text": [
      "N =  7 entropy[2] =  1.89642204366\n"
     ]
    },
    {
     "data": {
      "image/png": "[encoded data removed]",
      "text/plain": [
       "<matplotlib.figure.Figure at 0x117616cf8>"
      ]
     },
     "metadata": {},
     "output_type": "display_data"
    },
    {
     "name": "stdout",
     "output_type": "stream",
     "text": [
      "N =  8 entropy[2] =  1.96072114734\n"
     ]
    },
    {
     "data": {
      "image/png": "[encoded data removed]",
      "text/plain": [
       "<matplotlib.figure.Figure at 0x117679160>"
      ]
     },
     "metadata": {},
     "output_type": "display_data"
    },
    {
     "name": "stdout",
     "output_type": "stream",
     "text": [
      "N =  9 entropy[2] =  2.03184175598\n"
     ]
    }
   ],
   "source": [
    "for N in [6,7,8,9]:\n",
    "    H = hamiltonian(N,1)\n",
    "    w, v = manipulate.eigen(H)\n",
    "    w = manipulate.set_zeros(w)\n",
    "    ngs = sum(w==0)\n",
    "    tot_gs = np.copy(v[:,0])\n",
    "    for i in range(1,ngs):\n",
    "        tot_gs += v[:,i]\n",
    "    tot_gs = tot_gs/math.sqrt(ngs)\n",
    "    rho = manipulate.density_mat(tot_gs)\n",
    "    entropies = np.zeros(N)\n",
    "    rhoi = np.copy(rho)\n",
    "    for idx, val in enumerate(entropies):\n",
    "        if idx != 0: rhoi = manipulate.single_trace(rhoi)\n",
    "        entropies[idx] = manipulate.entropy(rhoi)\n",
    "    plt.scatter(range(N), entropies)\n",
    "    plt.savefig(\"../data/entropy0%s.pdf\" % N)\n",
    "    plt.show()\n",
    "    print(\"N = \", N, \"entropy[2] = \", entropies[2])"
   ]
  },
  {
   "cell_type": "code",
   "execution_count": 37,
   "metadata": {
    "collapsed": false
   },
   "outputs": [
    {
     "name": "stderr",
     "output_type": "stream",
     "text": [
      "/Users/cstahl/anaconda3/lib/python3.5/site-packages/ipykernel/__main__.py:15: ComplexWarning: Casting complex values to real discards the imaginary part\n",
      "/Users/cstahl/Documents/Junior/Junior Paper II/python/manipulate.py:17: ComplexWarning: Casting complex values to real discards the imaginary part\n",
      "  r[idx, jdx] = rho[idx, jdx] + rho[idx + N/2, jdx + N/2]\n"
     ]
    },
    {
     "data": {
      "image/png": "[encoded data removed]",
      "text/plain": [
       "<matplotlib.figure.Figure at 0x117626eb8>"
      ]
     },
     "metadata": {},
     "output_type": "display_data"
    },
    {
     "name": "stdout",
     "output_type": "stream",
     "text": [
      "N =  11 entropy[2] =  2.05832730354\n"
     ]
    }
   ],
   "source": [
    "for N in [11]:\n",
    "    H = hamiltonian(N,1)\n",
    "    w, v = manipulate.eigen(H)\n",
    "    w = manipulate.set_zeros(w)\n",
    "    ngs = sum(w==0)\n",
    "    tot_gs = np.copy(v[:,0])\n",
    "    for i in range(1,ngs):\n",
    "        tot_gs += v[:,i]\n",
    "    tot_gs = tot_gs/math.sqrt(ngs)\n",
    "    rho = manipulate.density_mat(tot_gs)\n",
    "    entropies = np.zeros(N)\n",
    "    rhoi = np.copy(rho)\n",
    "    for idx, val in enumerate(entropies):\n",
    "        if idx != 0: rhoi = manipulate.single_trace(rhoi)\n",
    "        entropies[idx] = manipulate.entropy(rhoi)\n",
    "    plt.scatter(range(N), entropies)\n",
    "    plt.savefig(\"../data/entropy%s.pdf\" % N)\n",
    "    plt.show()\n",
    "    print(\"N = \", N, \"entropy[2] = \", entropies[2])"
   ]
  },
  {
   "cell_type": "code",
   "execution_count": 45,
   "metadata": {
    "collapsed": false
   },
   "outputs": [
    {
     "data": {
      "image/png": "[encoded data removed]",
      "text/plain": [
       "<matplotlib.figure.Figure at 0x1201d7080>"
      ]
     },
     "metadata": {},
     "output_type": "display_data"
    }
   ],
   "source": [
    "plt.scatter(range(len(entropies)), entropies)\n",
    "plt.savefig(\"../data/entropy%s.pdf\" % N)\n",
    "plt.show()"
   ]
  },
  {
   "cell_type": "code",
   "execution_count": null,
   "metadata": {
    "collapsed": true
   },
   "outputs": [],
   "source": []
  }
 ],
 "metadata": {
  "kernelspec": {
   "display_name": "Python 3",
   "language": "python",
   "name": "python3"
  },
  "language_info": {
   "codemirror_mode": {
    "name": "ipython",
    "version": 3
   },
   "file_extension": ".py",
   "mimetype": "text/x-python",
   "name": "python",
   "nbconvert_exporter": "python",
   "pygments_lexer": "ipython3",
   "version": "3.5.3"
  }
 },
 "nbformat": 4,
 "nbformat_minor": 0
}
