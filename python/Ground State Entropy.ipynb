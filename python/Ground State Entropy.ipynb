{
 "cells": [
  {
   "cell_type": "code",
   "execution_count": 298,
   "metadata": {
    "collapsed": false
   },
   "outputs": [],
   "source": [
    "%matplotlib inline\n",
    "from syk_susy_2 import *\n",
    "import numpy as np\n",
    "from numpy import linalg as LA\n",
    "import scipy.linalg as SLA\n",
    "import matplotlib.pyplot as plt\n",
    "import manipulate\n",
    "from importlib import reload\n",
    "reload(manipulate)\n",
    "import math"
   ]
  },
  {
   "cell_type": "code",
   "execution_count": 264,
   "metadata": {
    "collapsed": true
   },
   "outputs": [],
   "source": [
    "def entropy(M):\n",
    "    w, v = LA.eig(M)\n",
    "    rho = 0\n",
    "    for i in w:\n",
    "        if (i != 0): rho += i*np.log(i)\n",
    "    return rho"
   ]
  },
  {
   "cell_type": "code",
   "execution_count": 205,
   "metadata": {
    "collapsed": false
   },
   "outputs": [
    {
     "name": "stdout",
     "output_type": "stream",
     "text": [
      "[ 0.          0.          0.          0.          0.          0.          0.\n",
      "  0.          0.          0.          0.          0.          0.          0.\n",
      "  0.          0.          0.          0.          0.          0.\n",
      "  1.03093563  1.03093563  1.03093563  1.03093563  2.59758764  2.59758764\n",
      "  2.59758764  2.59758764  3.62852327  3.62852327  3.62852327  3.62852327]\n",
      "[ 0.00000000+0.j          0.00000000+0.j          0.00000000+0.j\n",
      "  0.00000000+0.j          0.00000000+0.j          0.00000000+0.j\n",
      "  0.00000000+0.j          0.00000000+0.j          0.00000000+0.j\n",
      "  0.00000000+0.j          0.00000000+0.j          0.00000000+0.j\n",
      "  0.00000000+0.j          0.00000000+0.j          0.00000000+0.j\n",
      "  0.02818593+0.00349974j  0.00000000+0.j          0.00000000+0.j\n",
      "  0.00000000+0.j          0.00000000+0.j          0.00000000+0.j\n",
      "  0.00000000+0.j          0.00000000+0.j          0.20718183+0.40176256j\n",
      "  0.00000000+0.j          0.00000000+0.j          0.00000000+0.j\n",
      " -0.04351422+0.14429325j  0.00000000+0.j          0.38524170-0.23575206j\n",
      "  0.42126893+0.67343326j  0.00000000+0.j        ]\n"
     ]
    }
   ],
   "source": [
    "H = hamiltonian(5,1)\n",
    "w, v = manipulate.eigen(H)\n",
    "print(w)\n",
    "# np.dot(v.conj().T, v)\n",
    "Ha = manipulate.reconstruct(w,v)\n",
    "np.max(H-Ha)\n",
    "# print(manipulate.set_zeros(np.dot(H, v[:,20])))\n",
    "# print(sum(w==0))\n",
    "# plt.imshow(np.abs(np.dot(v.conj().T, v)), interpolation='nearest', cmap='hot_r')\n",
    "# plt.colorbar()\n",
    "# plt.show()"
   ]
  },
  {
   "cell_type": "code",
   "execution_count": 299,
   "metadata": {
    "collapsed": false
   },
   "outputs": [
    {
     "name": "stdout",
     "output_type": "stream",
     "text": [
      "1.0\n",
      "Entropy for trace over  1 psis is -0.000000\n",
      "0.995441576233\n",
      "Entropy for trace over  2 psis is 0.694431\n",
      "0.989067535587\n",
      "Entropy for trace over  3 psis is 1.097307\n",
      "0.981127167737\n",
      "Entropy for trace over  4 psis is 1.378471\n",
      "0.976048507745\n",
      "Entropy for trace over  5 psis is 1.594058\n",
      "0.971976708432\n",
      "Entropy for trace over  6 psis is 1.767512\n",
      "0.967571393005\n",
      "Entropy for trace over  7 psis is 1.911569\n",
      "0.963313424945\n",
      "Entropy for trace over  8 psis is 2.035169\n",
      "0.959186021023\n",
      "Entropy for trace over  9 psis is 2.142150\n",
      "0.954719940145\n",
      "Entropy for trace over 10 psis is 2.236066\n",
      "0.950857868495\n",
      "Entropy for trace over 11 psis is 2.320488\n",
      "0.94662712834\n",
      "Entropy for trace over 12 psis is 2.395820\n",
      "0.942075887081\n",
      "Entropy for trace over 13 psis is 2.463151\n",
      "0.937403848579\n",
      "Entropy for trace over 14 psis is 2.524072\n",
      "0.933082018216\n",
      "Entropy for trace over 15 psis is 2.579826\n",
      "0.929274439618\n",
      "Entropy for trace over 16 psis is 2.631921\n",
      "0.925755386692\n",
      "Entropy for trace over 17 psis is 2.680559\n",
      "0.922242454987\n",
      "Entropy for trace over 18 psis is 2.725177\n",
      "0.918707514303\n",
      "Entropy for trace over 19 psis is 2.766490\n"
     ]
    },
    {
     "name": "stderr",
     "output_type": "stream",
     "text": [
      "/Users/cstahl/Documents/Junior/Junior Paper II/python/manipulate.py:14: ComplexWarning: Casting complex values to real discards the imaginary part\n",
      "  rho[i,j] = sum(psi[i:i+N+1]*psi[j:j+N+1].conjucate())\n"
     ]
    }
   ],
   "source": [
    "H = hamiltonian(8,1)\n",
    "w, v = manipulate.eigen(H)\n",
    "ngs = sum(w==0)\n",
    "tot_gs = v[0]\n",
    "for i in range(1,ngs):\n",
    "    tot_gs += v[i]\n",
    "tot_gs = tot_gs/math.sqrt(ngs)\n",
    "for i in range(1,20):\n",
    "    rho = manipulate.partial_trace(i, tot_gs)\n",
    "    print(\"Entropy for trace over %2d psis is %1.6f\" % (i,-entropy(rho)))"
   ]
  },
  {
   "cell_type": "code",
   "execution_count": 54,
   "metadata": {
    "collapsed": false
   },
   "outputs": [
    {
     "name": "stdout",
     "output_type": "stream",
     "text": [
      "[ 0.64644715+0.j  0.19839705+0.j  0.07157457+0.j  0.08358123+0.j]\n"
     ]
    }
   ],
   "source": [
    "w, v = LA.eig(M)\n",
    "print(w)"
   ]
  },
  {
   "cell_type": "code",
   "execution_count": 55,
   "metadata": {
    "collapsed": false
   },
   "outputs": [
    {
     "name": "stdout",
     "output_type": "stream",
     "text": [
      "-0.999112285342\n"
     ]
    }
   ],
   "source": [
    "L = LA.logm(M)\n",
    "print(np.trace(np.dot(M,L)))"
   ]
  },
  {
   "cell_type": "code",
   "execution_count": 56,
   "metadata": {
    "collapsed": false
   },
   "outputs": [
    {
     "name": "stdout",
     "output_type": "stream",
     "text": [
      "(-0.999112285342+0j)\n"
     ]
    }
   ],
   "source": [
    "print(sum(w*np.log(w)))"
   ]
  },
  {
   "cell_type": "code",
   "execution_count": 73,
   "metadata": {
    "collapsed": false
   },
   "outputs": [
    {
     "name": "stdout",
     "output_type": "stream",
     "text": [
      "[[  0.   0.   0.   0.   0.   0.   0.   0.   0.]\n",
      " [  0.   1.   2.   3.   4.   5.   6.   7.   8.]\n",
      " [  0.   2.   4.   6.   8.  10.  12.  14.  16.]\n",
      " [  0.   3.   6.   9.  12.  15.  18.  21.  24.]\n",
      " [  0.   4.   8.  12.  16.  20.  24.  28.  32.]\n",
      " [  0.   5.  10.  15.  20.  25.  30.  35.  40.]\n",
      " [  0.   6.  12.  18.  24.  30.  36.  42.  48.]\n",
      " [  0.   7.  14.  21.  28.  35.  42.  49.  56.]\n",
      " [  0.   8.  16.  24.  32.  40.  48.  56.  64.]]\n"
     ]
    }
   ],
   "source": [
    "psi = np.array([0,1,2,3,4,5,6,7,8])\n",
    "print(partial_trace(9,psi))"
   ]
  },
  {
   "cell_type": "code",
   "execution_count": 224,
   "metadata": {
    "collapsed": false
   },
   "outputs": [
    {
     "name": "stdout",
     "output_type": "stream",
     "text": [
      "[[  0.           0.           0.        ]\n",
      " [  0.         -46.05170186   0.        ]\n",
      " [  0.           0.         -46.05170186]]\n"
     ]
    },
    {
     "name": "stderr",
     "output_type": "stream",
     "text": [
      "/Users/cstahl/anaconda3/lib/python3.5/site-packages/scipy/linalg/_matfuncs_inv_ssq.py:830: LogmExactlySingularWarning: The logm input matrix is exactly singular.\n",
      "  warnings.warn(exact_singularity_msg, LogmExactlySingularWarning)\n"
     ]
    }
   ],
   "source": [
    "M = np.array([[1,0,0],[0,0,0],[0,0,0]])\n",
    "L = SLA.logm(M)\n",
    "print(L)"
   ]
  },
  {
   "cell_type": "code",
   "execution_count": 300,
   "metadata": {
    "collapsed": false
   },
   "outputs": [
    {
     "ename": "TypeError",
     "evalue": "'float' object cannot be interpreted as an integer",
     "output_type": "error",
     "traceback": [
      "\u001b[0;31m---------------------------------------------------------------------------\u001b[0m",
      "\u001b[0;31mTypeError\u001b[0m                                 Traceback (most recent call last)",
      "\u001b[0;32m<ipython-input-300-aae30fdaf5f5>\u001b[0m in \u001b[0;36m<module>\u001b[0;34m()\u001b[0m\n\u001b[0;32m----> 1\u001b[0;31m \u001b[0mrange\u001b[0m\u001b[0;34m(\u001b[0m\u001b[0;36m1\u001b[0m\u001b[0;34m,\u001b[0m\u001b[0;36m5.5\u001b[0m\u001b[0;34m)\u001b[0m\u001b[0;34m\u001b[0m\u001b[0m\n\u001b[0m",
      "\u001b[0;31mTypeError\u001b[0m: 'float' object cannot be interpreted as an integer"
     ]
    }
   ],
   "source": [
    "range(1,5.5)"
   ]
  },
  {
   "cell_type": "code",
   "execution_count": null,
   "metadata": {
    "collapsed": true
   },
   "outputs": [],
   "source": []
  }
 ],
 "metadata": {
  "kernelspec": {
   "display_name": "Python 3",
   "language": "python",
   "name": "python3"
  },
  "language_info": {
   "codemirror_mode": {
    "name": "ipython",
    "version": 3
   },
   "file_extension": ".py",
   "mimetype": "text/x-python",
   "name": "python",
   "nbconvert_exporter": "python",
   "pygments_lexer": "ipython3",
   "version": "3.5.3"
  }
 },
 "nbformat": 4,
 "nbformat_minor": 0
}
