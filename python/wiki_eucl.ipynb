{
 "cells": [
  {
   "cell_type": "code",
   "execution_count": 2,
   "metadata": {
    "collapsed": true
   },
   "outputs": [],
   "source": [
    "import numpy as np "
   ]
  },
  {
   "cell_type": "code",
   "execution_count": 32,
   "metadata": {
    "collapsed": false
   },
   "outputs": [
    {
     "name": "stdout",
     "output_type": "stream",
     "text": [
      "(-1+0j)\n"
     ]
    }
   ],
   "source": [
    "sig_1 = np.asarray([[0,  1],[1, 0]])\n",
    "sig_2 = np.asarray([[0,-1j],[1j,0]])\n",
    "sig_3 = np.asarray([[1,  0],[0,-1]])\n",
    "ident = np.asarray([[1,  0],[0, 1]])\n",
    "print(1j*1j)"
   ]
  },
  {
   "cell_type": "code",
   "execution_count": 4,
   "metadata": {
    "collapsed": true
   },
   "outputs": [],
   "source": [
    "def anti_com(a,b):\n",
    "    return np.dot(a,b)+np.dot(b,a)"
   ]
  },
  {
   "cell_type": "markdown",
   "metadata": {},
   "source": [
    "# Given $d$ Majorana Fermions,\n",
    "and $\\frac{d}{2}$ Dirac Fermions if $N$ is even.\n",
    "Then the matrices are $N\\times N$, where $N=2^{d/2}$.\n",
    "\n",
    "$\\left\\lbrace\\gamma ^{\\mu }\\gamma ^{\\nu }\\right\\rbrace=2\\delta ^{\\mu \\nu }\\,$\n",
    "\n",
    "$\\left|\\phi\\right\\rangle=\\left|\\alpha_0\\alpha_1\\dots\\alpha_N\\dots\\alpha_{2N}\\right\\rangle$  ??\n",
    "\n",
    "Note: $\\texttt{np.dot()}$ does work how you would expect"
   ]
  },
  {
   "cell_type": "code",
   "execution_count": 71,
   "metadata": {
    "collapsed": false
   },
   "outputs": [],
   "source": [
    "def psi(d,i):\n",
    "    assert d%1==0, \"d must be integer\"\n",
    "    assert i%1==0, \"i must be integer\"\n",
    "    assert d>1, \"dimension must be 2 or greater\"\n",
    "    assert i > 0 and i < d+1, \"i must be in [1...d]\"\n",
    "    if d == 2:\n",
    "        if i == 1: return  sig_1\n",
    "        if i == 2: return  sig_3\n",
    "        else: assert 0\n",
    "    if d == 3:\n",
    "        if i == 3: return np.asarray([[0,-1],[1,0]])\n",
    "        else: return psi(2,i)\n",
    "    if (d%2) == 0:\n",
    "        if i == d-1: return np.kron(sig_1, np.eye(d-2, dtype=\"int\"))\n",
    "        if i == d  : return np.kron(sig_3, np.eye(d-2, dtype=\"int\"))\n",
    "        else: return np.kron(sig_3, psi(d-2,i))\n",
    "        #else: return np.kron(psi(d-2,i), sig_3)\n",
    "    if (d%2) == 1:\n",
    "        if i == d  : return np.kron(psi(d-2,i-2),sig_3)\n",
    "        else: return psi(d-1,i)"
   ]
  },
  {
   "cell_type": "code",
   "execution_count": 78,
   "metadata": {
    "collapsed": false
   },
   "outputs": [
    {
     "name": "stdout",
     "output_type": "stream",
     "text": [
      "1 \n",
      " [[ 0  0  1  0]\n",
      " [ 0  0  0 -1]\n",
      " [ 1  0  0  0]\n",
      " [ 0 -1  0  0]] \n",
      "\n",
      "2 \n",
      " [[ 1  0  0  0]\n",
      " [ 0 -1  0  0]\n",
      " [ 0  0 -1  0]\n",
      " [ 0  0  0  1]] \n",
      "\n",
      "3 \n",
      " [[0 0 1 0]\n",
      " [0 0 0 1]\n",
      " [1 0 0 0]\n",
      " [0 1 0 0]] \n",
      "\n",
      "4 \n",
      " [[ 1  0  0  0]\n",
      " [ 0  1  0  0]\n",
      " [ 0  0 -1  0]\n",
      " [ 0  0  0 -1]] \n",
      "\n"
     ]
    }
   ],
   "source": [
    "d = 4\n",
    "\n",
    "for i in np.arange(1,d+1):\n",
    "    print(i,'\\n',psi(d,i),'\\n')"
   ]
  },
  {
   "cell_type": "code",
   "execution_count": 43,
   "metadata": {
    "collapsed": false
   },
   "outputs": [
    {
     "name": "stdout",
     "output_type": "stream",
     "text": [
      "[[ 1  0]\n",
      " [ 0 -1]]\n",
      "\n",
      "{psi^i,psi^i}\n",
      "[[2 0]\n",
      " [0 2]]\n",
      "\n",
      "{psi^i,psi^j}\n",
      "[[0 0]\n",
      " [0 0]]\n"
     ]
    }
   ],
   "source": [
    "d = 2\n",
    "i = 2\n",
    "N = int(2**np.floor(d/2))\n",
    "\n",
    "print(psi(d,i))\n",
    "print(\"\\n{psi^i,psi^i}\")\n",
    "print(anti_com(psi(d,i),psi(d,i)))\n",
    "print(\"\\n{psi^i,psi^j}\")\n",
    "if d==i: print(anti_com(psi(d,i),psi(d,i-1)))\n",
    "else:    print(anti_com(psi(d,i),psi(d,i+1)))"
   ]
  },
  {
   "cell_type": "code",
   "execution_count": 45,
   "metadata": {
    "collapsed": false
   },
   "outputs": [
    {
     "name": "stdout",
     "output_type": "stream",
     "text": [
      "[[ 1.  0.  0.  0.]\n",
      " [ 0. -1.  0. -0.]\n",
      " [ 0.  0.  1.  0.]\n",
      " [ 0. -0.  0. -1.]]\n",
      "[[ True  True  True  True]\n",
      " [ True  True  True  True]\n",
      " [ True  True  True  True]\n",
      " [ True  True  True  True]]\n",
      "[[ 0  0  1  0]\n",
      " [ 0  0  0 -1]\n",
      " [ 1  0  0  0]\n",
      " [ 0 -1  0  0]]\n",
      "[[ True  True False  True]\n",
      " [ True  True  True False]\n",
      " [False  True  True  True]\n",
      " [ True False  True  True]]\n",
      "[[ 1  0  0  0]\n",
      " [ 0 -1  0  0]\n",
      " [ 0  0 -1  0]\n",
      " [ 0  0  0  1]]\n",
      "[[False  True  True  True]\n",
      " [ True False  True  True]\n",
      " [ True  True False  True]\n",
      " [ True  True  True False]]\n",
      "[[ 0.  1.  0.  0.]\n",
      " [ 1.  0.  0.  0.]\n",
      " [ 0.  0.  0.  1.]\n",
      " [ 0.  0.  1.  0.]]\n",
      "[[ True  True  True  True]\n",
      " [ True  True  True  True]\n",
      " [ True  True  True  True]\n",
      " [ True  True  True  True]]\n",
      "[[ 1.  0.  0.  0.]\n",
      " [ 0. -1.  0. -0.]\n",
      " [ 0.  0.  1.  0.]\n",
      " [ 0. -0.  0. -1.]]\n",
      "[[False  True  True  True]\n",
      " [ True False  True  True]\n",
      " [ True  True False  True]\n",
      " [ True  True  True False]]\n"
     ]
    }
   ],
   "source": [
    "d = 5\n",
    "N = int(2**np.floor(d/2))\n",
    "\n",
    "psi0 = psi(d,1)\n",
    "psi1 = psi(d,2)\n",
    "psi2 = psi(d,3)\n",
    "psi3 = psi(d,4)\n",
    "\n",
    "psi4 = np.dot(np.dot(psi0,psi1), np.dot(psi2,psi3))\n",
    "psi4 = psi(d,4)\n",
    "\n",
    "print(psi4)\n",
    "print(np.isclose(anti_com(psi4,psi4),2*np.eye(N)))\n",
    "for p in [psi0,psi1,psi2,psi3]:\n",
    "    print(p)\n",
    "    print(np.isclose(anti_com(psi4,p), np.zeros((N,N))))"
   ]
  },
  {
   "cell_type": "code",
   "execution_count": 51,
   "metadata": {
    "collapsed": false
   },
   "outputs": [
    {
     "name": "stdout",
     "output_type": "stream",
     "text": [
      "[[0 0 0 0]\n",
      " [0 0 0 0]\n",
      " [0 0 0 0]\n",
      " [0 0 0 0]] \n",
      "\n",
      "[[0 0 0 0]\n",
      " [0 0 0 0]\n",
      " [0 0 0 0]\n",
      " [0 0 0 0]]\n",
      "[[0 0 0 0]\n",
      " [0 0 0 0]\n",
      " [0 0 0 0]\n",
      " [0 0 0 0]]\n",
      "[[0 0 0 0]\n",
      " [0 0 0 0]\n",
      " [0 0 0 0]\n",
      " [0 0 0 0]]\n",
      "[[0 0 0 0]\n",
      " [0 0 0 0]\n",
      " [0 0 0 0]\n",
      " [0 0 0 0]]\n"
     ]
    }
   ],
   "source": [
    "d = 4\n",
    "N = int(2**np.floor(d/2))\n",
    "p = np.zeros((d+1,N,N), dtype=\"int\")\n",
    "\n",
    "p[1] = psi(d,1)\n",
    "p[2] = psi(d,2)\n",
    "pc = p[1]\n",
    "for i in np.arange(2,d+1):\n",
    "    pc = np.dot(pc,p[i])\n",
    "#print(np.dot(pc,pc))\n",
    "print(np.dot(np.dot(p[1],p[2]),np.dot(p[3],p[4])), '\\n')\n",
    "\n",
    "for i in np.arange(1,d+1):\n",
    "    print(anti_com(pc,p[i]))"
   ]
  },
  {
   "cell_type": "code",
   "execution_count": 63,
   "metadata": {
    "collapsed": false
   },
   "outputs": [
    {
     "name": "stdout",
     "output_type": "stream",
     "text": [
      "[[ 1  0  0  0]\n",
      " [ 0  1  0  0]\n",
      " [ 0  0 -1  0]\n",
      " [ 0  0  0 -1]]\n"
     ]
    }
   ],
   "source": [
    "print(np.kron(sig_3, ident))"
   ]
  },
  {
   "cell_type": "code",
   "execution_count": null,
   "metadata": {
    "collapsed": true
   },
   "outputs": [],
   "source": [
    "clear(psi)"
   ]
  },
  {
   "cell_type": "code",
   "execution_count": null,
   "metadata": {
    "collapsed": true
   },
   "outputs": [],
   "source": []
  }
 ],
 "metadata": {
  "kernelspec": {
   "display_name": "Python 3",
   "language": "python",
   "name": "python3"
  },
  "language_info": {
   "codemirror_mode": {
    "name": "ipython",
    "version": 3
   },
   "file_extension": ".py",
   "mimetype": "text/x-python",
   "name": "python",
   "nbconvert_exporter": "python",
   "pygments_lexer": "ipython3",
   "version": "3.5.1"
  }
 },
 "nbformat": 4,
 "nbformat_minor": 0
}
