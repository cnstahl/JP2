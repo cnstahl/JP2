{
 "cells": [
  {
   "cell_type": "code",
   "execution_count": 38,
   "metadata": {
    "collapsed": false
   },
   "outputs": [],
   "source": [
    "from sympy.physics.matrices import mgamma\n",
    "import numpy as np\n",
    "\n",
    "np.set_printoptions(precision=3, suppress=True)"
   ]
  },
  {
   "cell_type": "code",
   "execution_count": 62,
   "metadata": {
    "collapsed": false
   },
   "outputs": [],
   "source": [
    "P0 = np.asarray(mgamma(0))\n",
    "P1 = 1j*np.asarray(mgamma(1))\n",
    "P2 = 1j*np.asarray(mgamma(2))\n",
    "P3 = 1j*np.asarray(mgamma(3))\n",
    "P5 = np.asarray(mgamma(5))\n",
    "\n",
    "# P0 = mgamma(0)\n",
    "# P1 = mgamma(1)\n",
    "# P2 = mgamma(2)\n",
    "# P3 = mgamma(3)\n",
    "# P5 = mgamma(5)"
   ]
  },
  {
   "cell_type": "code",
   "execution_count": null,
   "metadata": {
    "collapsed": false
   },
   "outputs": [],
   "source": []
  },
  {
   "cell_type": "code",
   "execution_count": 64,
   "metadata": {
    "collapsed": false
   },
   "outputs": [
    {
     "name": "stdout",
     "output_type": "stream",
     "text": [
      "[[1 0 0 0]\n",
      " [0 1 0 0]\n",
      " [0 0 -1 0]\n",
      " [0 0 0 -1]]\n",
      "[[1 0 0 0]\n",
      " [0 1 0 0]\n",
      " [0 0 1 0]\n",
      " [0 0 0 1]]\n",
      "[[0 0 0 1.0*I]\n",
      " [0 0 1.0*I 0]\n",
      " [0 -1.0*I 0 0]\n",
      " [-1.0*I 0 0 0]]\n",
      "[[1.00000000000000 0 0 0]\n",
      " [0 1.00000000000000 0 0]\n",
      " [0 0 1.00000000000000 0]\n",
      " [0 0 0 1.00000000000000]]\n",
      "[[0 0 0 1.00000000000000]\n",
      " [0 0 -1.00000000000000 0]\n",
      " [0 -1.00000000000000 0 0]\n",
      " [1.00000000000000 0 0 0]]\n",
      "[[1.00000000000000 0 0 0]\n",
      " [0 1.00000000000000 0 0]\n",
      " [0 0 1.00000000000000 0]\n",
      " [0 0 0 1.00000000000000]]\n",
      "[[0 0 1.0*I 0]\n",
      " [0 0 0 -1.0*I]\n",
      " [-1.0*I 0 0 0]\n",
      " [0 1.0*I 0 0]]\n",
      "[[1.00000000000000 0 0 0]\n",
      " [0 1.00000000000000 0 0]\n",
      " [0 0 1.00000000000000 0]\n",
      " [0 0 0 1.00000000000000]]\n",
      "[[0 0 1 0]\n",
      " [0 0 0 1]\n",
      " [1 0 0 0]\n",
      " [0 1 0 0]]\n",
      "[[1 0 0 0]\n",
      " [0 1 0 0]\n",
      " [0 0 1 0]\n",
      " [0 0 0 1]]\n"
     ]
    }
   ],
   "source": [
    "for i in [P0,P1,P2,P3,P5]:\n",
    "    print(i)\n",
    "    print(np.dot(i,i))"
   ]
  },
  {
   "cell_type": "code",
   "execution_count": 61,
   "metadata": {
    "collapsed": false
   },
   "outputs": [
    {
     "name": "stdout",
     "output_type": "stream",
     "text": [
      "[[0 0 -1.00000000000000 0]\n",
      " [0 0 0 -1.00000000000000]\n",
      " [-1.00000000000000 0 0 0]\n",
      " [0 -1.00000000000000 0 0]]\n",
      "[[0 0 1 0]\n",
      " [0 0 0 1]\n",
      " [1 0 0 0]\n",
      " [0 1 0 0]]\n"
     ]
    }
   ],
   "source": [
    "print(np.dot(np.dot(P0, P1), np.dot(P2, P3)))\n",
    "print(P5)"
   ]
  },
  {
   "cell_type": "code",
   "execution_count": 55,
   "metadata": {
    "collapsed": false
   },
   "outputs": [
    {
     "data": {
      "text/plain": [
       "(-1+0j)"
      ]
     },
     "execution_count": 55,
     "metadata": {},
     "output_type": "execute_result"
    }
   ],
   "source": [
    "z = 1j\n",
    "z*z"
   ]
  },
  {
   "cell_type": "code",
   "execution_count": null,
   "metadata": {
    "collapsed": true
   },
   "outputs": [],
   "source": []
  }
 ],
 "metadata": {
  "kernelspec": {
   "display_name": "Python 3",
   "language": "python",
   "name": "python3"
  },
  "language_info": {
   "codemirror_mode": {
    "name": "ipython",
    "version": 3
   },
   "file_extension": ".py",
   "mimetype": "text/x-python",
   "name": "python",
   "nbconvert_exporter": "python",
   "pygments_lexer": "ipython3",
   "version": "3.5.1"
  }
 },
 "nbformat": 4,
 "nbformat_minor": 0
}
