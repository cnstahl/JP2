{
 "cells": [
  {
   "cell_type": "code",
   "execution_count": 174,
   "metadata": {
    "collapsed": true
   },
   "outputs": [],
   "source": [
    "import numpy as np"
   ]
  },
  {
   "cell_type": "markdown",
   "metadata": {},
   "source": [
    "# Given $2N$ Majorana Fermions\n",
    "amd $N$ Dirac Fermions \n",
    "\n",
    "$\\left|\\phi\\right\\rangle=\\left|\\alpha_0\\alpha_1\\dots\\alpha_N\\dots\\alpha_{2N}\\right\\rangle    \\hskip{2in}$  "
   ]
  },
  {
   "cell_type": "code",
   "execution_count": 179,
   "metadata": {
    "collapsed": false
   },
   "outputs": [],
   "source": [
    "def odd(n,m,k):\n",
    "    if m == n + 2**k or m == n - 2**k: return 1./2\n",
    "    return 0\n",
    "    \n",
    "def even(n,m,k):\n",
    "    if m == n + 2**k: return  (1./2)*1j\n",
    "    if m == n - 2**k: return -(1./2)*1j\n",
    "    else: return 0"
   ]
  },
  {
   "cell_type": "code",
   "execution_count": 180,
   "metadata": {
    "collapsed": false
   },
   "outputs": [],
   "source": [
    "def psi(N,j):\n",
    "    assert j<2**N, \"j must be less than 2^N\"\n",
    "    k = np.floor(j/2)\n",
    "    psi = np.zeros((2**N,2**N), dtype=complex)\n",
    "    for n, row in enumerate(psi):\n",
    "        for m, elem in enumerate(row):\n",
    "            assert j%1 == 0, \"j must be an integer\"\n",
    "            if   j%2 == 0: psi[n,m] = even(n,m,k)\n",
    "            elif j%2 == 1: psi[n,m] =  odd(n,m,k)\n",
    "            else: assert 1 == 0, \"j must be an integer\"\n",
    "            \n",
    "    \n",
    "    return psi"
   ]
  },
  {
   "cell_type": "code",
   "execution_count": 182,
   "metadata": {
    "collapsed": false
   },
   "outputs": [
    {
     "name": "stdout",
     "output_type": "stream",
     "text": [
      "[[ 0.+0.j   0.+0.5j  0.+0.j   0.+0.j ]\n",
      " [-0.-0.5j  0.+0.j   0.+0.5j  0.+0.j ]\n",
      " [ 0.+0.j  -0.-0.5j  0.+0.j   0.+0.5j]\n",
      " [ 0.+0.j   0.+0.j  -0.-0.5j  0.+0.j ]]\n",
      "[[ 0.+0.25j  0.+0.j    0.+0.25j  0.+0.j  ]\n",
      " [ 0.+0.j    0.+0.j    0.+0.j    0.+0.25j]\n",
      " [ 0.-0.25j  0.+0.j    0.+0.j    0.+0.j  ]\n",
      " [ 0.+0.j    0.-0.25j  0.+0.j    0.-0.25j]]\n",
      "[[ 0.-0.25j  0.+0.j    0.+0.25j  0.+0.j  ]\n",
      " [ 0.+0.j    0.+0.j    0.+0.j    0.+0.25j]\n",
      " [ 0.-0.25j  0.+0.j    0.+0.j    0.+0.j  ]\n",
      " [ 0.+0.j    0.-0.25j  0.+0.j    0.+0.25j]]\n"
     ]
    }
   ],
   "source": [
    "N = 2\n",
    "j =0\n",
    "print(psi(N,j))\n",
    "print(np.dot(psi(N,j  ), psi(N,j+1)))\n",
    "print(np.dot(psi(N,j+1), psi(N,j  )))"
   ]
  },
  {
   "cell_type": "code",
   "execution_count": 187,
   "metadata": {
    "collapsed": false
   },
   "outputs": [
    {
     "name": "stdout",
     "output_type": "stream",
     "text": [
      "0.5\n",
      "0.5\n",
      "(-0-0.5j)\n",
      "0.5j\n"
     ]
    }
   ],
   "source": [
    "print( odd(7,3,2))\n",
    "print( odd(3,7,2))\n",
    "print(even(7,3,2))\n",
    "print(even(3,7,2))"
   ]
  },
  {
   "cell_type": "code",
   "execution_count": 84,
   "metadata": {
    "collapsed": false
   },
   "outputs": [
    {
     "name": "stdout",
     "output_type": "stream",
     "text": [
      "[[ 0.+0.j  0.+0.j]\n",
      " [ 0.+0.j  0.+0.j]]\n",
      "[[ 0.+1.j  0.+0.j]\n",
      " [ 0.+0.j  0.+0.j]]\n",
      "[[ 0.+1.j  0.+0.j]\n",
      " [ 0.+0.j  0.+0.j]]\n"
     ]
    }
   ],
   "source": [
    "b = np.zeros((2,2), dtype=complex)\n",
    "c = np.zeros((2,2), dtype=complex)\n",
    "b[0,0] = 1j\n",
    "print(c)\n",
    "print(b)\n",
    "print(c+b)"
   ]
  },
  {
   "cell_type": "code",
   "execution_count": 73,
   "metadata": {
    "collapsed": false
   },
   "outputs": [
    {
     "data": {
      "text/plain": [
       "0"
      ]
     },
     "execution_count": 73,
     "metadata": {},
     "output_type": "execute_result"
    }
   ],
   "source": [
    "0%2"
   ]
  },
  {
   "cell_type": "code",
   "execution_count": 100,
   "metadata": {
    "collapsed": false
   },
   "outputs": [],
   "source": [
    "if 1==0: assert 0==1"
   ]
  },
  {
   "cell_type": "code",
   "execution_count": 107,
   "metadata": {
    "collapsed": false
   },
   "outputs": [
    {
     "data": {
      "text/plain": [
       "0.5"
      ]
     },
     "execution_count": 107,
     "metadata": {},
     "output_type": "execute_result"
    }
   ],
   "source": [
    ".5%1"
   ]
  },
  {
   "cell_type": "code",
   "execution_count": null,
   "metadata": {
    "collapsed": true
   },
   "outputs": [],
   "source": []
  }
 ],
 "metadata": {
  "kernelspec": {
   "display_name": "Python 3",
   "language": "python",
   "name": "python3"
  },
  "language_info": {
   "codemirror_mode": {
    "name": "ipython",
    "version": 3
   },
   "file_extension": ".py",
   "mimetype": "text/x-python",
   "name": "python",
   "nbconvert_exporter": "python",
   "pygments_lexer": "ipython3",
   "version": "3.5.1"
  }
 },
 "nbformat": 4,
 "nbformat_minor": 0
}
